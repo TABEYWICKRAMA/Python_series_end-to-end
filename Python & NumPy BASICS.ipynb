{
  "nbformat": 4,
  "nbformat_minor": 0,
  "metadata": {
    "colab": {
      "provenance": [],
      "authorship_tag": "ABX9TyNCrWE5O/Tmp0Sy08i2cXsC",
      "include_colab_link": true
    },
    "kernelspec": {
      "name": "python3",
      "display_name": "Python 3"
    },
    "language_info": {
      "name": "python"
    }
  },
  "cells": [
    {
      "cell_type": "markdown",
      "metadata": {
        "id": "view-in-github",
        "colab_type": "text"
      },
      "source": [
        "<a href=\"https://colab.research.google.com/github/TABEYWICKRAMA/Python_series_end-to-end/blob/Numpy/Python%20%26%20NumPy%20BASICS.ipynb\" target=\"_parent\"><img src=\"https://colab.research.google.com/assets/colab-badge.svg\" alt=\"Open In Colab\"/></a>"
      ]
    },
    {
      "cell_type": "code",
      "execution_count": null,
      "metadata": {
        "colab": {
          "base_uri": "https://localhost:8080/"
        },
        "id": "Z3ZFV_aXdhIt",
        "outputId": "84af08b2-d04a-41f4-8f22-0949268820da"
      },
      "outputs": [
        {
          "output_type": "stream",
          "name": "stdout",
          "text": [
            "Oshada\n",
            "150\n",
            "13.0\n"
          ]
        }
      ],
      "source": [
        "name = \"Oshada\"\n",
        "no_studs=150\n",
        "temp = 13.0\n",
        "print(name)\n",
        "print(no_studs)\n",
        "print(temp)\n"
      ]
    },
    {
      "cell_type": "code",
      "source": [
        "List_1 = [1,2,3,4,5,6,7,8,9,10]\n",
        "List_2 = list(range(0,20))\n",
        "List_3 = [x for x in range(10)]\n",
        "List_1\n"
      ],
      "metadata": {
        "colab": {
          "base_uri": "https://localhost:8080/"
        },
        "id": "5MtHdsbBd7fc",
        "outputId": "8f6f41c8-6757-419b-db97-8b698f963263"
      },
      "execution_count": null,
      "outputs": [
        {
          "output_type": "execute_result",
          "data": {
            "text/plain": [
              "[1, 2, 3, 4, 5, 6, 7, 8, 9, 10]"
            ]
          },
          "metadata": {},
          "execution_count": 6
        }
      ]
    },
    {
      "cell_type": "code",
      "source": [
        "List_2"
      ],
      "metadata": {
        "colab": {
          "base_uri": "https://localhost:8080/"
        },
        "id": "trtn-9d_ebfj",
        "outputId": "452b110e-af33-4a25-a826-9c657d283e5e"
      },
      "execution_count": null,
      "outputs": [
        {
          "output_type": "execute_result",
          "data": {
            "text/plain": [
              "[0, 1, 2, 3, 4, 5, 6, 7, 8, 9, 10, 11, 12, 13, 14, 15, 16, 17, 18, 19]"
            ]
          },
          "metadata": {},
          "execution_count": 7
        }
      ]
    },
    {
      "cell_type": "code",
      "source": [
        "List_3"
      ],
      "metadata": {
        "colab": {
          "base_uri": "https://localhost:8080/"
        },
        "id": "x6gcBk_Nedx4",
        "outputId": "1f527ed9-1912-4b0b-9f26-b5e96e1b5952"
      },
      "execution_count": null,
      "outputs": [
        {
          "output_type": "execute_result",
          "data": {
            "text/plain": [
              "[0, 1, 2, 3, 4, 5, 6, 7, 8, 9]"
            ]
          },
          "metadata": {},
          "execution_count": 8
        }
      ]
    },
    {
      "cell_type": "code",
      "source": [
        "for e in List_1:\n",
        " if e%2 != 0:\n",
        "   print(e)\n"
      ],
      "metadata": {
        "colab": {
          "base_uri": "https://localhost:8080/"
        },
        "id": "-TaWWab3fM2e",
        "outputId": "dae7ae6d-ea71-46aa-dee0-4769b947fbb7"
      },
      "execution_count": null,
      "outputs": [
        {
          "output_type": "stream",
          "name": "stdout",
          "text": [
            "1\n",
            "3\n",
            "5\n",
            "7\n",
            "9\n"
          ]
        }
      ]
    },
    {
      "cell_type": "code",
      "source": [
        "i = 0\n",
        "while i <len(List_1):\n",
        " if List_1[i] %2 != 0:\n",
        "  print(List_1[i])\n",
        " i+=1"
      ],
      "metadata": {
        "colab": {
          "base_uri": "https://localhost:8080/"
        },
        "id": "Kp4vvykkfh6e",
        "outputId": "675aee94-8486-4bd8-971b-4764c6e94e9f"
      },
      "execution_count": null,
      "outputs": [
        {
          "output_type": "stream",
          "name": "stdout",
          "text": [
            "1\n",
            "3\n",
            "5\n",
            "7\n",
            "9\n"
          ]
        }
      ]
    },
    {
      "cell_type": "code",
      "source": [
        "List_5 = [x for x in List_1 if x%2 !=0]\n",
        "print(List_5)"
      ],
      "metadata": {
        "colab": {
          "base_uri": "https://localhost:8080/"
        },
        "id": "8VxQ1mgZg0_q",
        "outputId": "88afc5c9-cfbc-4626-cbfb-358f3fa93e7a"
      },
      "execution_count": null,
      "outputs": [
        {
          "output_type": "stream",
          "name": "stdout",
          "text": [
            "[1, 3, 5, 7, 9]\n"
          ]
        }
      ]
    },
    {
      "cell_type": "code",
      "source": [
        "#This will print square of odd numbers between 0 to 9\n",
        "#output\n",
        "#1 \n",
        "#9\n",
        "#25\n",
        "#49\n",
        "\n",
        "l6 = [x for x in [x**2 for x in range(9)] if x%2 !=0]\n",
        "print(l6)\n"
      ],
      "metadata": {
        "colab": {
          "base_uri": "https://localhost:8080/"
        },
        "id": "7DGAN0Y1hBr5",
        "outputId": "9dbb3a26-7a63-41b2-e6cb-c90ecb738848"
      },
      "execution_count": null,
      "outputs": [
        {
          "output_type": "stream",
          "name": "stdout",
          "text": [
            "[1, 9, 25, 49]\n"
          ]
        }
      ]
    },
    {
      "cell_type": "code",
      "source": [
        "def get_odd(n):\n",
        " return [x for x in [x**2 for x in range(n)] if x%2 !=0]\n"
      ],
      "metadata": {
        "id": "dtUvPGmkhM15"
      },
      "execution_count": null,
      "outputs": []
    },
    {
      "cell_type": "code",
      "source": [
        "get_odd(4)"
      ],
      "metadata": {
        "colab": {
          "base_uri": "https://localhost:8080/"
        },
        "id": "SNZLXqmljLA2",
        "outputId": "fc33ec4e-3f60-4b17-ac19-f1d5e4987d70"
      },
      "execution_count": null,
      "outputs": [
        {
          "output_type": "execute_result",
          "data": {
            "text/plain": [
              "[1, 9]"
            ]
          },
          "metadata": {},
          "execution_count": 18
        }
      ]
    },
    {
      "cell_type": "code",
      "source": [
        "d1 = {x : x**2 for x in range(7)}\n",
        "print(d1)\n"
      ],
      "metadata": {
        "colab": {
          "base_uri": "https://localhost:8080/"
        },
        "id": "1EV_bIK5jmdt",
        "outputId": "270f01c2-c91f-4743-d4f6-f26d01ba5f6e"
      },
      "execution_count": null,
      "outputs": [
        {
          "output_type": "stream",
          "name": "stdout",
          "text": [
            "{0: 0, 1: 1, 2: 4, 3: 9, 4: 16, 5: 25, 6: 36}\n"
          ]
        }
      ]
    },
    {
      "cell_type": "code",
      "source": [
        "vals=list(d1.values())\n",
        "vals\n"
      ],
      "metadata": {
        "colab": {
          "base_uri": "https://localhost:8080/"
        },
        "id": "LkPwTygDjrxy",
        "outputId": "8986e45b-c946-463e-8ba5-c289ffe0f76b"
      },
      "execution_count": null,
      "outputs": [
        {
          "output_type": "execute_result",
          "data": {
            "text/plain": [
              "[0, 1, 4, 9, 16, 25, 36]"
            ]
          },
          "metadata": {},
          "execution_count": 20
        }
      ]
    },
    {
      "cell_type": "code",
      "source": [
        "a = [0,1,2,3,4,5]\n",
        "a[::-1]"
      ],
      "metadata": {
        "colab": {
          "base_uri": "https://localhost:8080/"
        },
        "id": "2ypz7p5Bj95B",
        "outputId": "5af17631-c426-4e40-b6f4-292e36710cf7"
      },
      "execution_count": null,
      "outputs": [
        {
          "output_type": "execute_result",
          "data": {
            "text/plain": [
              "[5, 4, 3, 2, 1, 0]"
            ]
          },
          "metadata": {},
          "execution_count": 21
        }
      ]
    },
    {
      "cell_type": "code",
      "source": [
        "xcoors=[0,1,2,3,4,5]\n",
        "ycoors=[6,7,8,9,10,11]"
      ],
      "metadata": {
        "id": "V7QOKIXnmir7"
      },
      "execution_count": null,
      "outputs": []
    },
    {
      "cell_type": "code",
      "source": [
        "zip_list=list(zip(xcoors,ycoors))\n"
      ],
      "metadata": {
        "id": "DrLRDe0bmkXk"
      },
      "execution_count": null,
      "outputs": []
    },
    {
      "cell_type": "code",
      "source": [
        "zip_list"
      ],
      "metadata": {
        "colab": {
          "base_uri": "https://localhost:8080/"
        },
        "id": "f9nYcJ7XoMdh",
        "outputId": "913e8144-519b-4d9e-f9e1-0712cf0e138d"
      },
      "execution_count": null,
      "outputs": [
        {
          "output_type": "execute_result",
          "data": {
            "text/plain": [
              "[(0, 6), (1, 7), (2, 8), (3, 9), (4, 10), (5, 11)]"
            ]
          },
          "metadata": {},
          "execution_count": 28
        }
      ]
    },
    {
      "cell_type": "code",
      "source": [
        "unzip_list=list(zip(*zip_list))"
      ],
      "metadata": {
        "id": "FeuKMRKJoYFf"
      },
      "execution_count": null,
      "outputs": []
    },
    {
      "cell_type": "code",
      "source": [
        "unzip_list"
      ],
      "metadata": {
        "colab": {
          "base_uri": "https://localhost:8080/"
        },
        "id": "MTy_D-N_odp5",
        "outputId": "fef344e6-1152-4f3a-e13b-b17a6cc9ed2d"
      },
      "execution_count": null,
      "outputs": [
        {
          "output_type": "execute_result",
          "data": {
            "text/plain": [
              "[(0, 1, 2, 3, 4, 5), (6, 7, 8, 9, 10, 11)]"
            ]
          },
          "metadata": {},
          "execution_count": 30
        }
      ]
    },
    {
      "cell_type": "code",
      "source": [
        "###### Numpy\n",
        "import numpy as np\n"
      ],
      "metadata": {
        "id": "UmKUtQ5Jp_gx"
      },
      "execution_count": null,
      "outputs": []
    },
    {
      "cell_type": "code",
      "source": [
        "#Create an numpy array of floats containing the numbers from 0 to 4.\n",
        "arr0 = np.array([0,1,2,3,4], float)\n",
        "print(arr0)"
      ],
      "metadata": {
        "colab": {
          "base_uri": "https://localhost:8080/"
        },
        "id": "cVtb3JpWqLBA",
        "outputId": "5d8ff037-6cdf-4190-ea75-915efc23ec67"
      },
      "execution_count": null,
      "outputs": [
        {
          "output_type": "stream",
          "name": "stdout",
          "text": [
            "[0. 1. 2. 3. 4.]\n"
          ]
        }
      ]
    },
    {
      "cell_type": "code",
      "source": [
        "#Create the following matrix as a numpy matrix: M=[[1,2,3],[4,5,6]].\n",
        "arr1 = np.array([[1,2,3],[4,5,6]], float)\n",
        "print(arr1)"
      ],
      "metadata": {
        "colab": {
          "base_uri": "https://localhost:8080/"
        },
        "id": "EkYWcShBqeXz",
        "outputId": "5789b57b-d0f2-478f-fd3b-7128c2df13aa"
      },
      "execution_count": null,
      "outputs": [
        {
          "output_type": "stream",
          "name": "stdout",
          "text": [
            "[[1. 2. 3.]\n",
            " [4. 5. 6.]]\n"
          ]
        }
      ]
    },
    {
      "cell_type": "code",
      "source": [
        "#Get the shape of the matrix M. Check if the value 2 is in M.\n",
        "arr1.shape"
      ],
      "metadata": {
        "colab": {
          "base_uri": "https://localhost:8080/"
        },
        "id": "2EYeHcCjq2JN",
        "outputId": "311844b9-16e3-48de-c73d-d989e834decc"
      },
      "execution_count": null,
      "outputs": [
        {
          "output_type": "execute_result",
          "data": {
            "text/plain": [
              "(2, 3)"
            ]
          },
          "metadata": {},
          "execution_count": 35
        }
      ]
    },
    {
      "cell_type": "code",
      "source": [
        "print(9 in arr1)"
      ],
      "metadata": {
        "colab": {
          "base_uri": "https://localhost:8080/"
        },
        "id": "HUfonCh4rPQu",
        "outputId": "f54b7971-a4dd-43bf-caa5-5bfc0f1d8e88"
      },
      "execution_count": null,
      "outputs": [
        {
          "output_type": "stream",
          "name": "stdout",
          "text": [
            "False\n"
          ]
        }
      ]
    },
    {
      "cell_type": "code",
      "source": [
        "arr2 = np.array(range(10), float)\n",
        "print(arr2)\n",
        "\n",
        "\n"
      ],
      "metadata": {
        "colab": {
          "base_uri": "https://localhost:8080/"
        },
        "id": "F9jbSaw32Ovk",
        "outputId": "964ca2d6-ec66-4a09-f518-87a8df587401"
      },
      "execution_count": 45,
      "outputs": [
        {
          "output_type": "stream",
          "name": "stdout",
          "text": [
            "[0. 1. 2. 3. 4. 5. 6. 7. 8. 9.]\n"
          ]
        }
      ]
    },
    {
      "cell_type": "code",
      "source": [
        "arr3 = arr2.reshape((5, 2))\n",
        "print (arr3)"
      ],
      "metadata": {
        "colab": {
          "base_uri": "https://localhost:8080/"
        },
        "id": "AUdYMopv3c8f",
        "outputId": "a4098140-9247-40c5-e4c2-c254da4b3991"
      },
      "execution_count": 44,
      "outputs": [
        {
          "output_type": "stream",
          "name": "stdout",
          "text": [
            "[[0. 1.]\n",
            " [2. 3.]\n",
            " [4. 5.]\n",
            " [6. 7.]\n",
            " [8. 9.]]\n"
          ]
        }
      ]
    },
    {
      "cell_type": "code",
      "source": [
        "arr2.shape"
      ],
      "metadata": {
        "colab": {
          "base_uri": "https://localhost:8080/"
        },
        "id": "Gq5E20ok2YR-",
        "outputId": "226d8099-f4bf-426d-f40c-f32d343b982c"
      },
      "execution_count": 42,
      "outputs": [
        {
          "output_type": "execute_result",
          "data": {
            "text/plain": [
              "(10,)"
            ]
          },
          "metadata": {},
          "execution_count": 42
        }
      ]
    },
    {
      "cell_type": "code",
      "source": [
        "arr3.shape"
      ],
      "metadata": {
        "colab": {
          "base_uri": "https://localhost:8080/"
        },
        "id": "rBu3CF0l2Ziz",
        "outputId": "dad9abc6-48f1-4938-f992-999335df6bf7"
      },
      "execution_count": 43,
      "outputs": [
        {
          "output_type": "execute_result",
          "data": {
            "text/plain": [
              "(5, 2)"
            ]
          },
          "metadata": {},
          "execution_count": 43
        }
      ]
    },
    {
      "cell_type": "code",
      "source": [
        "arr4 = arr3.transpose()\n",
        "print(arr4)\n"
      ],
      "metadata": {
        "colab": {
          "base_uri": "https://localhost:8080/"
        },
        "id": "emCHol_W41iA",
        "outputId": "beb532df-2686-49f7-d0fc-7b518c1ae82d"
      },
      "execution_count": 46,
      "outputs": [
        {
          "output_type": "stream",
          "name": "stdout",
          "text": [
            "[[0. 2. 4. 6. 8.]\n",
            " [1. 3. 5. 7. 9.]]\n"
          ]
        }
      ]
    },
    {
      "cell_type": "code",
      "source": [
        "arr5 = arr4.flatten()\n",
        "print (arr5)\n"
      ],
      "metadata": {
        "colab": {
          "base_uri": "https://localhost:8080/"
        },
        "id": "vbL2s0Od45Px",
        "outputId": "def807fc-e2fa-447d-d58a-d6d2f915cfd8"
      },
      "execution_count": 47,
      "outputs": [
        {
          "output_type": "stream",
          "name": "stdout",
          "text": [
            "[0. 2. 4. 6. 8. 1. 3. 5. 7. 9.]\n"
          ]
        }
      ]
    },
    {
      "cell_type": "code",
      "source": [
        "arr6 = np.array([0,1,2,3], float)\n",
        "print (arr6)\n",
        "arr7 = arr6[:, np.newaxis]\n",
        "print (arr6.shape)\n",
        "print (arr7.shape)\n",
        "print (arr7)\n"
      ],
      "metadata": {
        "colab": {
          "base_uri": "https://localhost:8080/"
        },
        "id": "rTz8CYyf5DEr",
        "outputId": "7a0f34b6-1814-4e3a-d342-d1e86f436ea7"
      },
      "execution_count": 48,
      "outputs": [
        {
          "output_type": "stream",
          "name": "stdout",
          "text": [
            "[0. 1. 2. 3.]\n",
            "(4,)\n",
            "(4, 1)\n",
            "[[0.]\n",
            " [1.]\n",
            " [2.]\n",
            " [3.]]\n"
          ]
        }
      ]
    },
    {
      "cell_type": "code",
      "source": [
        "# define identity mx\n",
        "print (np.identity(3, float))"
      ],
      "metadata": {
        "colab": {
          "base_uri": "https://localhost:8080/"
        },
        "id": "prwm81r_7t0T",
        "outputId": "b1c60544-a2d0-4cf3-9b56-c04120308404"
      },
      "execution_count": 49,
      "outputs": [
        {
          "output_type": "stream",
          "name": "stdout",
          "text": [
            "[[1. 0. 0.]\n",
            " [0. 1. 0.]\n",
            " [0. 0. 1.]]\n"
          ]
        }
      ]
    },
    {
      "cell_type": "code",
      "source": [
        "a=np.array([1,2,3],float)\n",
        "b=np.array([4,5,6],float)\n",
        "print(np.dot(a,b))"
      ],
      "metadata": {
        "colab": {
          "base_uri": "https://localhost:8080/"
        },
        "id": "NtTNub6G75FS",
        "outputId": "eb6e914e-7d3a-4d3e-f692-b621f75ae286"
      },
      "execution_count": 50,
      "outputs": [
        {
          "output_type": "stream",
          "name": "stdout",
          "text": [
            "32.0\n"
          ]
        }
      ]
    },
    {
      "cell_type": "code",
      "source": [
        "arr10=np.array([1,4,3,8,3,2,3],float)\n",
        "print(\"mean: \",np.mean(arr10))\n",
        "print(\"median: \",np.median(arr10))"
      ],
      "metadata": {
        "colab": {
          "base_uri": "https://localhost:8080/"
        },
        "id": "GYzVs7e-8Kjg",
        "outputId": "054622cd-8332-46d1-8803-c620e26f6f46"
      },
      "execution_count": 60,
      "outputs": [
        {
          "output_type": "stream",
          "name": "stdout",
          "text": [
            "mean:  3.4285714285714284\n",
            "median:  3.0\n"
          ]
        }
      ]
    },
    {
      "cell_type": "code",
      "source": [
        "# compute covariance\n",
        "arr12 = np.array([[1,1],[3,4]], float)\n",
        "print ('cov:', np.cov(arr12))\n"
      ],
      "metadata": {
        "colab": {
          "base_uri": "https://localhost:8080/"
        },
        "id": "ViSsMJrn8l7n",
        "outputId": "5aa42a39-a357-46d4-b82c-47a9a6ad5269"
      },
      "execution_count": 52,
      "outputs": [
        {
          "output_type": "stream",
          "name": "stdout",
          "text": [
            "cov: [[0.  0. ]\n",
            " [0.  0.5]]\n"
          ]
        }
      ]
    },
    {
      "cell_type": "code",
      "source": [
        "import matplotlib.pyplot as plt\n",
        "%matplotlib inline"
      ],
      "metadata": {
        "id": "YE2BQQ_E8tYb"
      },
      "execution_count": 53,
      "outputs": []
    },
    {
      "cell_type": "code",
      "source": [
        "dpts= np.array([[3,3],[4,5],[4.5,6],[9,7]])"
      ],
      "metadata": {
        "id": "wDH1qruU8yNO"
      },
      "execution_count": 54,
      "outputs": []
    },
    {
      "cell_type": "code",
      "source": [
        "#plt.figure()\n",
        "plt.plot(dpts[:,0], dpts[:,1])\n",
        "plt.ylabel('y-axis')\n",
        "plt.xlabel('x-axis')\n",
        "plt.show()\n"
      ],
      "metadata": {
        "colab": {
          "base_uri": "https://localhost:8080/",
          "height": 279
        },
        "id": "prygbHPA89GG",
        "outputId": "0621e59d-9198-4ab2-c27f-d43e5999d968"
      },
      "execution_count": 61,
      "outputs": [
        {
          "output_type": "display_data",
          "data": {
            "text/plain": [
              "<Figure size 432x288 with 1 Axes>"
            ],
            "image/png": "[encoded data removed]"
          },
          "metadata": {
            "needs_background": "light"
          }
        }
      ]
    },
    {
      "cell_type": "code",
      "source": [
        "c1 = np.array([(1,2), (3,1), (0,1), (2,2)])\n",
        "c2 = np.array([(12,9),(8,10),(11,11),(14,13)])\n",
        "plt.figure()\n",
        "plt.scatter(c1[:, 0], c1[:, 1], color='r')\n",
        "plt.scatter(c2[:, 0], c2[:, 1], color='b')\n",
        "plt.xlabel ('time spent at parking lot [h]')\n",
        "plt.ylabel ('money spent in euro')\n",
        "plt.title ('Fancy studies')\n"
      ],
      "metadata": {
        "colab": {
          "base_uri": "https://localhost:8080/",
          "height": 312
        },
        "id": "QBQlVCR09AR_",
        "outputId": "183bb18a-070a-4576-c6b0-b72d8a7b43dd"
      },
      "execution_count": 62,
      "outputs": [
        {
          "output_type": "execute_result",
          "data": {
            "text/plain": [
              "Text(0.5, 1.0, 'Fancy studies')"
            ]
          },
          "metadata": {},
          "execution_count": 62
        },
        {
          "output_type": "display_data",
          "data": {
            "text/plain": [
              "<Figure size 432x288 with 1 Axes>"
            ],
            "image/png": "[encoded data removed]"
          },
          "metadata": {
            "needs_background": "light"
          }
        }
      ]
    },
    {
      "cell_type": "code",
      "source": [
        "from scipy.spatial import distance\n",
        "distmx = []\n",
        "for e in c1:\n",
        " newrow = []\n",
        " for f in c2:\n",
        "   d = distance.euclidean(e,f)\n",
        "   newrow.append(d)\n",
        "   distmx.append (newrow)\n",
        " \n",
        "plt.figure()\n",
        "plt.imshow(distmx, cmap='coolwarm', interpolation=\"nearest\")\n",
        "plt.colorbar()"
      ],
      "metadata": {
        "colab": {
          "base_uri": "https://localhost:8080/",
          "height": 282
        },
        "id": "inn7hIlWBrqI",
        "outputId": "e6bc7a41-7cdf-4298-9b6a-6532f5366797"
      },
      "execution_count": 65,
      "outputs": [
        {
          "output_type": "execute_result",
          "data": {
            "text/plain": [
              "<matplotlib.colorbar.Colorbar at 0x7f28fb19c150>"
            ]
          },
          "metadata": {},
          "execution_count": 65
        },
        {
          "output_type": "display_data",
          "data": {
            "text/plain": [
              "<Figure size 432x288 with 2 Axes>"
            ],
            "image/png": "[encoded data removed]"
          },
          "metadata": {
            "needs_background": "light"
          }
        }
      ]
    }
  ]
}
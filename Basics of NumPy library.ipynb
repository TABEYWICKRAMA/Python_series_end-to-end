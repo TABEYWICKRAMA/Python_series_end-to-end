{
  "nbformat": 4,
  "nbformat_minor": 0,
  "metadata": {
    "colab": {
      "provenance": [],
      "authorship_tag": "ABX9TyPMCqwz/Qv76HedHTuPipBL",
      "include_colab_link": true
    },
    "kernelspec": {
      "name": "python3",
      "display_name": "Python 3"
    },
    "language_info": {
      "name": "python"
    }
  },
  "cells": [
    {
      "cell_type": "markdown",
      "metadata": {
        "id": "view-in-github",
        "colab_type": "text"
      },
      "source": [
        "<a href=\"https://colab.research.google.com/github/TABEYWICKRAMA/Python_series_end-to-end/blob/Numpy/Basics%20of%20NumPy%20library.ipynb\" target=\"_parent\"><img src=\"https://colab.research.google.com/assets/colab-badge.svg\" alt=\"Open In Colab\"/></a>"
      ]
    },
    {
      "cell_type": "code",
      "execution_count": 2,
      "metadata": {
        "colab": {
          "base_uri": "https://localhost:8080/"
        },
        "id": "Z3ZFV_aXdhIt",
        "outputId": "84af08b2-d04a-41f4-8f22-0949268820da"
      },
      "outputs": [
        {
          "output_type": "stream",
          "name": "stdout",
          "text": [
            "Oshada\n",
            "150\n",
            "13.0\n"
          ]
        }
      ],
      "source": [
        "name = \"Oshada\"\n",
        "no_studs=150\n",
        "temp = 13.0\n",
        "print(name)\n",
        "print(no_studs)\n",
        "print(temp)\n"
      ]
    },
    {
      "cell_type": "code",
      "source": [
        "List_1 = [1,2,3,4,5,6,7,8,9,10]\n",
        "List_2 = list(range(0,20))\n",
        "List_3 = [x for x in range(10)]\n",
        "List_1\n"
      ],
      "metadata": {
        "colab": {
          "base_uri": "https://localhost:8080/"
        },
        "id": "5MtHdsbBd7fc",
        "outputId": "8f6f41c8-6757-419b-db97-8b698f963263"
      },
      "execution_count": 6,
      "outputs": [
        {
          "output_type": "execute_result",
          "data": {
            "text/plain": [
              "[1, 2, 3, 4, 5, 6, 7, 8, 9, 10]"
            ]
          },
          "metadata": {},
          "execution_count": 6
        }
      ]
    },
    {
      "cell_type": "code",
      "source": [
        "List_2"
      ],
      "metadata": {
        "colab": {
          "base_uri": "https://localhost:8080/"
        },
        "id": "trtn-9d_ebfj",
        "outputId": "452b110e-af33-4a25-a826-9c657d283e5e"
      },
      "execution_count": 7,
      "outputs": [
        {
          "output_type": "execute_result",
          "data": {
            "text/plain": [
              "[0, 1, 2, 3, 4, 5, 6, 7, 8, 9, 10, 11, 12, 13, 14, 15, 16, 17, 18, 19]"
            ]
          },
          "metadata": {},
          "execution_count": 7
        }
      ]
    },
    {
      "cell_type": "code",
      "source": [
        "List_3"
      ],
      "metadata": {
        "colab": {
          "base_uri": "https://localhost:8080/"
        },
        "id": "x6gcBk_Nedx4",
        "outputId": "1f527ed9-1912-4b0b-9f26-b5e96e1b5952"
      },
      "execution_count": 8,
      "outputs": [
        {
          "output_type": "execute_result",
          "data": {
            "text/plain": [
              "[0, 1, 2, 3, 4, 5, 6, 7, 8, 9]"
            ]
          },
          "metadata": {},
          "execution_count": 8
        }
      ]
    },
    {
      "cell_type": "code",
      "source": [
        "for e in List_1:\n",
        " if e%2 != 0:\n",
        "   print(e)\n"
      ],
      "metadata": {
        "colab": {
          "base_uri": "https://localhost:8080/"
        },
        "id": "-TaWWab3fM2e",
        "outputId": "dae7ae6d-ea71-46aa-dee0-4769b947fbb7"
      },
      "execution_count": 10,
      "outputs": [
        {
          "output_type": "stream",
          "name": "stdout",
          "text": [
            "1\n",
            "3\n",
            "5\n",
            "7\n",
            "9\n"
          ]
        }
      ]
    },
    {
      "cell_type": "code",
      "source": [
        "i = 0\n",
        "while i <len(List_1):\n",
        " if List_1[i] %2 != 0:\n",
        "  print(List_1[i])\n",
        " i+=1"
      ],
      "metadata": {
        "colab": {
          "base_uri": "https://localhost:8080/"
        },
        "id": "Kp4vvykkfh6e",
        "outputId": "675aee94-8486-4bd8-971b-4764c6e94e9f"
      },
      "execution_count": 12,
      "outputs": [
        {
          "output_type": "stream",
          "name": "stdout",
          "text": [
            "1\n",
            "3\n",
            "5\n",
            "7\n",
            "9\n"
          ]
        }
      ]
    },
    {
      "cell_type": "code",
      "source": [
        "List_5 = [x for x in List_1 if x%2 !=0]\n",
        "print(List_5)"
      ],
      "metadata": {
        "colab": {
          "base_uri": "https://localhost:8080/"
        },
        "id": "8VxQ1mgZg0_q",
        "outputId": "88afc5c9-cfbc-4626-cbfb-358f3fa93e7a"
      },
      "execution_count": 13,
      "outputs": [
        {
          "output_type": "stream",
          "name": "stdout",
          "text": [
            "[1, 3, 5, 7, 9]\n"
          ]
        }
      ]
    },
    {
      "cell_type": "code",
      "source": [
        "#This will print square of odd numbers between 0 to 9\n",
        "#output\n",
        "#1 \n",
        "#9\n",
        "#25\n",
        "#49\n",
        "\n",
        "l6 = [x for x in [x**2 for x in range(9)] if x%2 !=0]\n",
        "print(l6)\n"
      ],
      "metadata": {
        "colab": {
          "base_uri": "https://localhost:8080/"
        },
        "id": "7DGAN0Y1hBr5",
        "outputId": "9dbb3a26-7a63-41b2-e6cb-c90ecb738848"
      },
      "execution_count": 17,
      "outputs": [
        {
          "output_type": "stream",
          "name": "stdout",
          "text": [
            "[1, 9, 25, 49]\n"
          ]
        }
      ]
    },
    {
      "cell_type": "code",
      "source": [
        "def get_odd(n):\n",
        " return [x for x in [x**2 for x in range(n)] if x%2 !=0]\n"
      ],
      "metadata": {
        "id": "dtUvPGmkhM15"
      },
      "execution_count": 16,
      "outputs": []
    },
    {
      "cell_type": "code",
      "source": [
        "get_odd(4)"
      ],
      "metadata": {
        "colab": {
          "base_uri": "https://localhost:8080/"
        },
        "id": "SNZLXqmljLA2",
        "outputId": "fc33ec4e-3f60-4b17-ac19-f1d5e4987d70"
      },
      "execution_count": 18,
      "outputs": [
        {
          "output_type": "execute_result",
          "data": {
            "text/plain": [
              "[1, 9]"
            ]
          },
          "metadata": {},
          "execution_count": 18
        }
      ]
    },
    {
      "cell_type": "code",
      "source": [
        "d1 = {x : x**2 for x in range(7)}\n",
        "print(d1)\n"
      ],
      "metadata": {
        "colab": {
          "base_uri": "https://localhost:8080/"
        },
        "id": "1EV_bIK5jmdt",
        "outputId": "270f01c2-c91f-4743-d4f6-f26d01ba5f6e"
      },
      "execution_count": 19,
      "outputs": [
        {
          "output_type": "stream",
          "name": "stdout",
          "text": [
            "{0: 0, 1: 1, 2: 4, 3: 9, 4: 16, 5: 25, 6: 36}\n"
          ]
        }
      ]
    },
    {
      "cell_type": "code",
      "source": [
        "vals=list(d1.values())\n",
        "vals\n"
      ],
      "metadata": {
        "colab": {
          "base_uri": "https://localhost:8080/"
        },
        "id": "LkPwTygDjrxy",
        "outputId": "8986e45b-c946-463e-8ba5-c289ffe0f76b"
      },
      "execution_count": 20,
      "outputs": [
        {
          "output_type": "execute_result",
          "data": {
            "text/plain": [
              "[0, 1, 4, 9, 16, 25, 36]"
            ]
          },
          "metadata": {},
          "execution_count": 20
        }
      ]
    },
    {
      "cell_type": "code",
      "source": [
        "a = [0,1,2,3,4,5]\n",
        "a[::-1]"
      ],
      "metadata": {
        "colab": {
          "base_uri": "https://localhost:8080/"
        },
        "id": "2ypz7p5Bj95B",
        "outputId": "5af17631-c426-4e40-b6f4-292e36710cf7"
      },
      "execution_count": 21,
      "outputs": [
        {
          "output_type": "execute_result",
          "data": {
            "text/plain": [
              "[5, 4, 3, 2, 1, 0]"
            ]
          },
          "metadata": {},
          "execution_count": 21
        }
      ]
    },
    {
      "cell_type": "code",
      "source": [
        "xcoors=[0,1,2,3,4,5]\n",
        "ycoors=[6,7,8,9,10,11]"
      ],
      "metadata": {
        "id": "V7QOKIXnmir7"
      },
      "execution_count": 26,
      "outputs": []
    },
    {
      "cell_type": "code",
      "source": [
        "zip_list=list(zip(xcoors,ycoors))\n"
      ],
      "metadata": {
        "id": "DrLRDe0bmkXk"
      },
      "execution_count": 27,
      "outputs": []
    },
    {
      "cell_type": "code",
      "source": [
        "zip_list"
      ],
      "metadata": {
        "colab": {
          "base_uri": "https://localhost:8080/"
        },
        "id": "f9nYcJ7XoMdh",
        "outputId": "913e8144-519b-4d9e-f9e1-0712cf0e138d"
      },
      "execution_count": 28,
      "outputs": [
        {
          "output_type": "execute_result",
          "data": {
            "text/plain": [
              "[(0, 6), (1, 7), (2, 8), (3, 9), (4, 10), (5, 11)]"
            ]
          },
          "metadata": {},
          "execution_count": 28
        }
      ]
    },
    {
      "cell_type": "code",
      "source": [
        "unzip_list=list(zip(*zip_list))"
      ],
      "metadata": {
        "id": "FeuKMRKJoYFf"
      },
      "execution_count": 29,
      "outputs": []
    },
    {
      "cell_type": "code",
      "source": [
        "unzip_list"
      ],
      "metadata": {
        "colab": {
          "base_uri": "https://localhost:8080/"
        },
        "id": "MTy_D-N_odp5",
        "outputId": "fef344e6-1152-4f3a-e13b-b17a6cc9ed2d"
      },
      "execution_count": 30,
      "outputs": [
        {
          "output_type": "execute_result",
          "data": {
            "text/plain": [
              "[(0, 1, 2, 3, 4, 5), (6, 7, 8, 9, 10, 11)]"
            ]
          },
          "metadata": {},
          "execution_count": 30
        }
      ]
    },
    {
      "cell_type": "code",
      "source": [
        "###### Numpy\n",
        "import numpy as np\n"
      ],
      "metadata": {
        "id": "UmKUtQ5Jp_gx"
      },
      "execution_count": 31,
      "outputs": []
    },
    {
      "cell_type": "code",
      "source": [
        "#Create an numpy array of floats containing the numbers from 0 to 4.\n",
        "arr0 = np.array([0,1,2,3,4], float)\n",
        "print(arr0)"
      ],
      "metadata": {
        "colab": {
          "base_uri": "https://localhost:8080/"
        },
        "id": "cVtb3JpWqLBA",
        "outputId": "5d8ff037-6cdf-4190-ea75-915efc23ec67"
      },
      "execution_count": 32,
      "outputs": [
        {
          "output_type": "stream",
          "name": "stdout",
          "text": [
            "[0. 1. 2. 3. 4.]\n"
          ]
        }
      ]
    },
    {
      "cell_type": "code",
      "source": [
        "#Create the following matrix as a numpy matrix: M=[[1,2,3],[4,5,6]].\n",
        "arr1 = np.array([[1,2,3],[4,5,6]], float)\n",
        "print(arr1)"
      ],
      "metadata": {
        "colab": {
          "base_uri": "https://localhost:8080/"
        },
        "id": "EkYWcShBqeXz",
        "outputId": "5789b57b-d0f2-478f-fd3b-7128c2df13aa"
      },
      "execution_count": 34,
      "outputs": [
        {
          "output_type": "stream",
          "name": "stdout",
          "text": [
            "[[1. 2. 3.]\n",
            " [4. 5. 6.]]\n"
          ]
        }
      ]
    },
    {
      "cell_type": "code",
      "source": [
        "#Get the shape of the matrix M. Check if the value 2 is in M.\n",
        "arr1.shape"
      ],
      "metadata": {
        "colab": {
          "base_uri": "https://localhost:8080/"
        },
        "id": "2EYeHcCjq2JN",
        "outputId": "311844b9-16e3-48de-c73d-d989e834decc"
      },
      "execution_count": 35,
      "outputs": [
        {
          "output_type": "execute_result",
          "data": {
            "text/plain": [
              "(2, 3)"
            ]
          },
          "metadata": {},
          "execution_count": 35
        }
      ]
    },
    {
      "cell_type": "code",
      "source": [],
      "metadata": {
        "id": "HUfonCh4rPQu"
      },
      "execution_count": null,
      "outputs": []
    }
  ]
}
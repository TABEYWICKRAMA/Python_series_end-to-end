{
  "nbformat": 4,
  "nbformat_minor": 0,
  "metadata": {
    "colab": {
      "provenance": [],
      "authorship_tag": "ABX9TyOkkQYaH3Hcj5lzTXbKnYAL",
      "include_colab_link": true
    },
    "kernelspec": {
      "name": "python3",
      "display_name": "Python 3"
    },
    "language_info": {
      "name": "python"
    }
  },
  "cells": [
    {
      "cell_type": "markdown",
      "metadata": {
        "id": "view-in-github",
        "colab_type": "text"
      },
      "source": [
        "<a href=\"https://colab.research.google.com/github/TABEYWICKRAMA/Python_series_end-to-end/blob/main/Python_Basics_V2.ipynb\" target=\"_parent\"><img src=\"https://colab.research.google.com/assets/colab-badge.svg\" alt=\"Open In Colab\"/></a>"
      ]
    },
    {
      "cell_type": "code",
      "execution_count": 1,
      "metadata": {
        "colab": {
          "base_uri": "https://localhost:8080/"
        },
        "id": "5TzilxAmWxG-",
        "outputId": "2235a60b-e4af-4c58-b6ba-0b1ecc5401c0"
      },
      "outputs": [
        {
          "output_type": "stream",
          "name": "stdout",
          "text": [
            "Hello world\n"
          ]
        }
      ],
      "source": [
        "print('Hello world')"
      ]
    },
    {
      "cell_type": "code",
      "source": [
        "#multiline strings\n",
        "print(''' Hi \n",
        "            This shows \n",
        "                    the code as \n",
        "                                we write our code. \n",
        "''')"
      ],
      "metadata": {
        "colab": {
          "base_uri": "https://localhost:8080/"
        },
        "id": "VsKI2vgeW9M_",
        "outputId": "4dfd475f-06bd-43cc-e9a2-1fc6a2f55645"
      },
      "execution_count": 2,
      "outputs": [
        {
          "output_type": "stream",
          "name": "stdout",
          "text": [
            " Hi \n",
            "            This shows \n",
            "                    the code as \n",
            "                                we write our code. \n",
            "\n"
          ]
        }
      ]
    },
    {
      "cell_type": "code",
      "source": [
        "print('thisara\\'s python world')"
      ],
      "metadata": {
        "colab": {
          "base_uri": "https://localhost:8080/"
        },
        "id": "YcV3iYREW94l",
        "outputId": "ad7519b5-01b3-4a6e-f4c4-a36d35fbe2fd"
      },
      "execution_count": 3,
      "outputs": [
        {
          "output_type": "stream",
          "name": "stdout",
          "text": [
            "thisara's python world\n"
          ]
        }
      ]
    },
    {
      "cell_type": "code",
      "source": [
        "print(\"thisara\\\" s python world\")"
      ],
      "metadata": {
        "colab": {
          "base_uri": "https://localhost:8080/"
        },
        "id": "Dn_VH2rCYSB7",
        "outputId": "b9b821ae-6f3d-4233-f3e7-9eea7720125d"
      },
      "execution_count": 8,
      "outputs": [
        {
          "output_type": "stream",
          "name": "stdout",
          "text": [
            "thisara\" s python world\n"
          ]
        }
      ]
    },
    {
      "cell_type": "markdown",
      "source": [
        "## **String concatination vs String formatting**"
      ],
      "metadata": {
        "id": "APkLR969XM4d"
      }
    },
    {
      "cell_type": "code",
      "source": [
        "#String concatination\n",
        "first = 'John'\n",
        "last = 'Smith'\n",
        "message = first + ' [' + last + '] is a coder.'\n",
        "print(message)"
      ],
      "metadata": {
        "colab": {
          "base_uri": "https://localhost:8080/"
        },
        "id": "GzgcX1frXKRW",
        "outputId": "463e6ea2-45f6-492e-8ba4-6f7fcae36b1c"
      },
      "execution_count": 5,
      "outputs": [
        {
          "output_type": "stream",
          "name": "stdout",
          "text": [
            "John [Smith] is a coder.\n"
          ]
        }
      ]
    },
    {
      "cell_type": "code",
      "source": [
        "#String formatting\n",
        "msg = f'{first} [{last}] is a coder'\n",
        "print(msg)"
      ],
      "metadata": {
        "colab": {
          "base_uri": "https://localhost:8080/"
        },
        "id": "iNxfQ6rdXVrU",
        "outputId": "5a42a7d8-1fb9-4afa-a28c-d4c7d14835b3"
      },
      "execution_count": 6,
      "outputs": [
        {
          "output_type": "stream",
          "name": "stdout",
          "text": [
            "John [Smith] is a coder\n"
          ]
        }
      ]
    },
    {
      "cell_type": "code",
      "source": [
        "a = 'Thisara'\n",
        "b = 'kavishka'\n",
        "\n",
        "x = f'{a} and {b} are lovers'\n",
        "print(x)"
      ],
      "metadata": {
        "colab": {
          "base_uri": "https://localhost:8080/"
        },
        "id": "ZWSiW-SQYgGk",
        "outputId": "cc6fe09c-a0f3-44b4-8b8f-e5eb18c0ae47"
      },
      "execution_count": 9,
      "outputs": [
        {
          "output_type": "stream",
          "name": "stdout",
          "text": [
            "Thisara and kavishka are lovers\n"
          ]
        }
      ]
    },
    {
      "cell_type": "code",
      "source": [
        "y = f'{\"Thisara\"} and {\"kavishka\"} are lovers'  #make sure to use double quotation\n",
        "print(y)"
      ],
      "metadata": {
        "colab": {
          "base_uri": "https://localhost:8080/"
        },
        "id": "QiDC-ZkjYji9",
        "outputId": "d5fb1722-9bd8-4254-ecd5-d2fce0aaf161"
      },
      "execution_count": 13,
      "outputs": [
        {
          "output_type": "stream",
          "name": "stdout",
          "text": [
            "Thisara and kavishka are lovers\n"
          ]
        }
      ]
    },
    {
      "cell_type": "markdown",
      "source": [
        "## **power operater**"
      ],
      "metadata": {
        "id": "Kc5EobsxZDNp"
      }
    },
    {
      "cell_type": "code",
      "source": [
        "print(10**3)\n",
        "#1000"
      ],
      "metadata": {
        "colab": {
          "base_uri": "https://localhost:8080/"
        },
        "id": "WM_Hz9d1Y2GA",
        "outputId": "cb74670b-6de6-4918-8c3d-1fd1d32ffa30"
      },
      "execution_count": 14,
      "outputs": [
        {
          "output_type": "stream",
          "name": "stdout",
          "text": [
            "1000\n"
          ]
        }
      ]
    },
    {
      "cell_type": "markdown",
      "source": [
        "## **Augmented assignment operater**"
      ],
      "metadata": {
        "id": "OQ2Z71XlZJFZ"
      }
    },
    {
      "cell_type": "code",
      "source": [
        "x=10\n",
        "x=10+3\n",
        "x+=3\n",
        "print(x)"
      ],
      "metadata": {
        "colab": {
          "base_uri": "https://localhost:8080/"
        },
        "id": "ewWxFjlWZLS_",
        "outputId": "c6aeeede-25bc-492c-ae3b-bb8d954eb18b"
      },
      "execution_count": 15,
      "outputs": [
        {
          "output_type": "stream",
          "name": "stdout",
          "text": [
            "16\n"
          ]
        }
      ]
    },
    {
      "cell_type": "markdown",
      "source": [
        "## **Comments**"
      ],
      "metadata": {
        "id": "auBoFx_HZS3K"
      }
    },
    {
      "cell_type": "code",
      "source": [
        "# This is a single line comment\n",
        "\n"
      ],
      "metadata": {
        "id": "DTPVa8EkZRcq"
      },
      "execution_count": 17,
      "outputs": []
    },
    {
      "cell_type": "code",
      "source": [
        "# this is a \n",
        "#             multiline\n",
        "#                       comment "
      ],
      "metadata": {
        "id": "w2PvlhTiZc7O"
      },
      "execution_count": 20,
      "outputs": []
    },
    {
      "cell_type": "markdown",
      "source": [
        "## **Upper() Lower() isUpper() isLower()**"
      ],
      "metadata": {
        "id": "c_R3wlYdZwim"
      }
    },
    {
      "cell_type": "code",
      "source": [
        "a = \"thisara\"\n",
        "b = 'THISARA'\n",
        "\n",
        "print(a.upper())\n",
        "\n",
        "print(b.lower())\n",
        "\n",
        "print(a.islower())\n",
        "\n",
        "print(b.isupper())\n"
      ],
      "metadata": {
        "colab": {
          "base_uri": "https://localhost:8080/"
        },
        "id": "b5PH1ZlPZrnl",
        "outputId": "015cf534-3966-4ee8-e5e5-d887ca3286d6"
      },
      "execution_count": 21,
      "outputs": [
        {
          "output_type": "stream",
          "name": "stdout",
          "text": [
            "THISARA\n",
            "thisara\n",
            "True\n",
            "True\n"
          ]
        }
      ]
    },
    {
      "cell_type": "markdown",
      "source": [
        "## **Replace()**"
      ],
      "metadata": {
        "id": "hM4FgdM9aETk"
      }
    },
    {
      "cell_type": "code",
      "source": [
        "print(a.replace(\"t\", \"k\"))"
      ],
      "metadata": {
        "colab": {
          "base_uri": "https://localhost:8080/"
        },
        "id": "VrvFFZI_aKYw",
        "outputId": "bf7437b8-a8bb-46d7-8d5a-f1db7df6d32e"
      },
      "execution_count": 22,
      "outputs": [
        {
          "output_type": "stream",
          "name": "stdout",
          "text": [
            "khisara\n"
          ]
        }
      ]
    },
    {
      "cell_type": "markdown",
      "source": [
        "## **Split()**"
      ],
      "metadata": {
        "id": "MqUAlZ0RaUuY"
      }
    },
    {
      "cell_type": "code",
      "source": [
        "x = \"hello,world\"\n",
        "print(x.split(\",\"))"
      ],
      "metadata": {
        "colab": {
          "base_uri": "https://localhost:8080/"
        },
        "id": "fkDVRVI5aTXX",
        "outputId": "f1e9796e-1bad-41af-963a-02827a5ca46b"
      },
      "execution_count": 23,
      "outputs": [
        {
          "output_type": "stream",
          "name": "stdout",
          "text": [
            "['hello', 'world']\n"
          ]
        }
      ]
    },
    {
      "cell_type": "markdown",
      "source": [
        "## **INDEXES**"
      ],
      "metadata": {
        "id": "pXDNIwEmaZzS"
      }
    },
    {
      "cell_type": "code",
      "source": [
        "a = \"thisara\"\n",
        "b = 'THISARA'\n",
        "\n",
        "print(a[0])\n",
        "print(b[2])\n",
        "print(a[0:3])  # printing characters indexes 0, 1, 2 only"
      ],
      "metadata": {
        "colab": {
          "base_uri": "https://localhost:8080/"
        },
        "id": "DP016sSpab45",
        "outputId": "20085efd-7e98-4948-b734-494399618478"
      },
      "execution_count": 25,
      "outputs": [
        {
          "output_type": "stream",
          "name": "stdout",
          "text": [
            "t\n",
            "I\n",
            "thi\n"
          ]
        }
      ]
    },
    {
      "cell_type": "markdown",
      "source": [
        "## **Strip() Function**\n",
        "### This removes empty spaces"
      ],
      "metadata": {
        "id": "MVH0cAA2am_P"
      }
    },
    {
      "cell_type": "code",
      "source": [
        "t = '                   thisara               '\n",
        "print(t.strip())"
      ],
      "metadata": {
        "colab": {
          "base_uri": "https://localhost:8080/"
        },
        "id": "gCf0CQTJakTp",
        "outputId": "20aa2f00-cdc6-4343-f66f-ad23d30b73d8"
      },
      "execution_count": 26,
      "outputs": [
        {
          "output_type": "stream",
          "name": "stdout",
          "text": [
            "thisara\n"
          ]
        }
      ]
    },
    {
      "cell_type": "code",
      "source": [
        "x = \"thisara \"\n",
        "print(x*10)"
      ],
      "metadata": {
        "colab": {
          "base_uri": "https://localhost:8080/"
        },
        "id": "oYiamoCOavIh",
        "outputId": "27c1c95b-da7f-4153-aea2-f7536b3aa74c"
      },
      "execution_count": 27,
      "outputs": [
        {
          "output_type": "stream",
          "name": "stdout",
          "text": [
            "thisara thisara thisara thisara thisara thisara thisara thisara thisara thisara \n"
          ]
        }
      ]
    },
    {
      "cell_type": "markdown",
      "source": [
        "## **Conditional Statements**"
      ],
      "metadata": {
        "id": "064BVZ8wa0ZT"
      }
    },
    {
      "cell_type": "code",
      "source": [
        "x = 7\n",
        "\n",
        "if x>9:\n",
        "    print(\"x is %s\" %x)\n",
        "else:\n",
        "    print(\"x is lower than 9\")\n",
        "    print(\"x is %d\" %x)"
      ],
      "metadata": {
        "colab": {
          "base_uri": "https://localhost:8080/"
        },
        "id": "uIgTnqvKayen",
        "outputId": "02fa1efd-29cf-4e4d-c1d8-822a741c13e6"
      },
      "execution_count": 28,
      "outputs": [
        {
          "output_type": "stream",
          "name": "stdout",
          "text": [
            "x is lower than 9\n",
            "x is 7\n"
          ]
        }
      ]
    }
  ]
}
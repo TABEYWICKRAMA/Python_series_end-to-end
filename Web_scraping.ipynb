{
  "nbformat": 4,
  "nbformat_minor": 0,
  "metadata": {
    "colab": {
      "provenance": [],
      "authorship_tag": "ABX9TyO5e0AtjwaAgtd0GPDXKPOb",
      "include_colab_link": true
    },
    "kernelspec": {
      "name": "python3",
      "display_name": "Python 3"
    },
    "language_info": {
      "name": "python"
    }
  },
  "cells": [
    {
      "cell_type": "markdown",
      "metadata": {
        "id": "view-in-github",
        "colab_type": "text"
      },
      "source": [
        "<a href=\"https://colab.research.google.com/github/TABEYWICKRAMA/Python_series_end-to-end/blob/main/Web_scraping.ipynb\" target=\"_parent\"><img src=\"https://colab.research.google.com/assets/colab-badge.svg\" alt=\"Open In Colab\"/></a>"
      ]
    },
    {
      "cell_type": "code",
      "source": [
        "# Imports\n",
        "import requests\n",
        "import numpy as np\n",
        "import pandas as pd\n",
        "from bs4 import BeautifulSoup\n",
        "import matplotlib.pyplot as plt\n",
        "\n",
        "%matplotlib inline"
      ],
      "metadata": {
        "id": "9i0sPYzAWamW"
      },
      "execution_count": null,
      "outputs": []
    },
    {
      "cell_type": "code",
      "execution_count": null,
      "metadata": {
        "colab": {
          "base_uri": "https://localhost:8080/"
        },
        "id": "3w16FnwQWKRD",
        "outputId": "d8e5aea7-3241-4694-c688-7deb5c910038"
      },
      "outputs": [
        {
          "output_type": "execute_result",
          "data": {
            "text/plain": [
              "<title>IMDb: Ratings, Reviews, and Where to Watch the Best Movies &amp; TV Shows</title>"
            ]
          },
          "metadata": {},
          "execution_count": 2
        }
      ],
      "source": [
        "# IMDB's homepage\n",
        "imdb_url = 'https://www.imdb.com'\n",
        "\n",
        "# Use requests to retrieve data from a given URL\n",
        "imdb_response = requests.get(imdb_url)\n",
        "\n",
        "# Parse the whole HTML page using BeautifulSoup\n",
        "imdb_soup = BeautifulSoup(imdb_response.text, 'html.parser')\n",
        "\n",
        "# Title of the parsed page\n",
        "imdb_soup.title"
      ]
    },
    {
      "cell_type": "code",
      "source": [
        "# We can also get it without the HTML tags\n",
        "imdb_soup.title.string"
      ],
      "metadata": {
        "colab": {
          "base_uri": "https://localhost:8080/",
          "height": 36
        },
        "id": "JIVJwBEaWk6X",
        "outputId": "fb044319-d9c1-45a7-eb47-acc9328920d6"
      },
      "execution_count": null,
      "outputs": [
        {
          "output_type": "execute_result",
          "data": {
            "text/plain": [
              "'IMDb: Ratings, Reviews, and Where to Watch the Best Movies & TV Shows'"
            ],
            "application/vnd.google.colaboratory.intrinsic+json": {
              "type": "string"
            }
          },
          "metadata": {},
          "execution_count": 3
        }
      ]
    },
    {
      "cell_type": "markdown",
      "source": [
        "### Find links\n",
        "\n",
        "In many cases, it is useful to collect the links contained in a webpage (for example, you might want to scrape them too). Here is how you can do this."
      ],
      "metadata": {
        "id": "_CQS_dgqW878"
      }
    },
    {
      "cell_type": "code",
      "source": [
        "# Find all links\n",
        "links = [link.get('href') for link in imdb_soup.find_all('a')]\n",
        "\n",
        "# Add homepage and keep the unique links\n",
        "fixed_links = set([''.join([imdb_url, link]) for link in links if link])"
      ],
      "metadata": {
        "id": "TfZDSwOTW_Pk"
      },
      "execution_count": null,
      "outputs": []
    },
    {
      "cell_type": "code",
      "source": [
        "fixed_links"
      ],
      "metadata": {
        "id": "XPGub0f-XLM9",
        "outputId": "bea90c6d-ba19-4a11-8287-27cda3d85a47",
        "colab": {
          "base_uri": "https://localhost:8080/"
        }
      },
      "execution_count": null,
      "outputs": [
        {
          "output_type": "execute_result",
          "data": {
            "text/plain": [
              "{'https://www.imdb.com/?ref_=nv_home',\n",
              " 'https://www.imdb.com/awards-central/?ref_=nv_ev_awrd',\n",
              " 'https://www.imdb.com/chart/boxoffice/?ref_=nv_ch_cht',\n",
              " 'https://www.imdb.com/chart/moviemeter/?ref_=nv_mv_mpm',\n",
              " 'https://www.imdb.com/chart/top/?ref_=nv_mv_250',\n",
              " 'https://www.imdb.com/chart/toptv/?ref_=nv_tvv_250',\n",
              " 'https://www.imdb.com/chart/tvmeter/?ref_=nv_tvv_mptv',\n",
              " 'https://www.imdb.com/comic-con/?ref_=nv_ev_comic',\n",
              " 'https://www.imdb.com/conditions?ref_=ft_cou',\n",
              " 'https://www.imdb.com/emmys/?ref_=nv_ev_rte',\n",
              " 'https://www.imdb.com/event/all/?ref_=nv_ev_all',\n",
              " 'https://www.imdb.com/feature/bornondate/?ref_=nv_cel_brn',\n",
              " 'https://www.imdb.com/feature/genre/',\n",
              " 'https://www.imdb.com/feature/genre/?ref_=nv_ch_gr',\n",
              " 'https://www.imdb.com/festival-central/?ref_=nv_ev_fc',\n",
              " 'https://www.imdb.com/gallery/rg1624939264/mediaviewer/rm275054849?ref_=hm_edcft_hp_g_lp_8_i',\n",
              " 'https://www.imdb.com/gallery/rg1624939264/mediaviewer/rm275054849?ref_=hm_edcft_hp_g_lp_8_t',\n",
              " 'https://www.imdb.com/gallery/rg1859820288/mediaviewer/rm2835611905?ref_=hm_edcft_ft_g_ls_till_7_i',\n",
              " 'https://www.imdb.com/gallery/rg1859820288/mediaviewer/rm2835611905?ref_=hm_edcft_ft_g_ls_till_7_t',\n",
              " 'https://www.imdb.com/gallery/rg1948359424/mediaviewer/rm3002187520?ref_=hm_edcft_ft_im_hagrid_5_i',\n",
              " 'https://www.imdb.com/gallery/rg1948359424/mediaviewer/rm3002187520?ref_=hm_edcft_ft_im_hagrid_5_t',\n",
              " 'https://www.imdb.com/imdbpicks/?ref_=nv_pi',\n",
              " 'https://www.imdb.com/india/toprated/?ref_=nv_mv_in',\n",
              " 'https://www.imdb.com/india/tv?ref_=nv_tv_in',\n",
              " 'https://www.imdb.com/list/ls025720609/videoplayer/vi1314636313?ref_=hp_hp_e_15',\n",
              " 'https://www.imdb.com/list/ls053181649/videoplayer/vi1203356953?ref_=hp_hp_e_2',\n",
              " 'https://www.imdb.com/list/ls053181649/videoplayer/vi3617637657?ref_=hp_hp_e_1',\n",
              " 'https://www.imdb.com/list/ls053181649/videoplayer/vi62899481?ref_=hp_hp_e_5',\n",
              " 'https://www.imdb.com/list/ls053181649/videoplayer/vi79676697?ref_=hp_hp_e_3',\n",
              " 'https://www.imdb.com/list/ls053181649/videoplayer/vi843825689?ref_=hp_hp_e_4',\n",
              " 'https://www.imdb.com/list/watchlist?ref_=nv_usr_wl_all_0',\n",
              " 'https://www.imdb.com/news/celebrity/?ref_=nv_cel_nw',\n",
              " 'https://www.imdb.com/news/movie/?ref_=nv_nw_mv',\n",
              " 'https://www.imdb.com/news/tv/?ref_=nv_nw_tv',\n",
              " 'https://www.imdb.com/nycc/?ref_=nv_ev_nycc',\n",
              " 'https://www.imdb.com/nycc/renew-cancel/ls063853872/mediaviewer/rm1743644161/?ref_=hm_edcft_ft_ls_rc_6_i',\n",
              " 'https://www.imdb.com/nycc/renew-cancel/ls063853872/mediaviewer/rm1743644161/?ref_=hm_edcft_ft_ls_rc_6_t',\n",
              " 'https://www.imdb.com/originals/?ref_=nv_sf_ori',\n",
              " 'https://www.imdb.com/oscars/?ref_=nv_ev_acd',\n",
              " 'https://www.imdb.com/podcasts/?ref_=nv_pod',\n",
              " 'https://www.imdb.com/poll/?ref_=nv_cm_pl',\n",
              " 'https://www.imdb.com/privacy?ref_=ft_pvc',\n",
              " 'https://www.imdb.com/registration/signin?ref=nv_generic_lgin',\n",
              " 'https://www.imdb.com/registration/signin?ref_=reg_ftr',\n",
              " 'https://www.imdb.com/scary-good/child-stars/rg1788844800/mediaviewer/rm1437140481?ref_=hm_edcft_ft_g_cs_2_i',\n",
              " 'https://www.imdb.com/scary-good/child-stars/rg1788844800/mediaviewer/rm1437140481?ref_=hm_edcft_ft_g_cs_2_t',\n",
              " 'https://www.imdb.com/scary-good/new-horror-movies/ls561856313/mediaviewer/rm569901057?ref_=hm_edcft_ft_ls_cseghw_hm_1_i',\n",
              " 'https://www.imdb.com/scary-good/new-horror-movies/ls561856313/mediaviewer/rm569901057?ref_=hm_edcft_ft_ls_cseghw_hm_1_t',\n",
              " 'https://www.imdb.com/scary-good/october-picks/ls561424109/mediaviewer/rm2631667457/?ref_=hm_edcft_ft_pks_oct22_cseghw_3_i',\n",
              " 'https://www.imdb.com/scary-good/october-picks/ls561424109/mediaviewer/rm2631667457/?ref_=hm_edcft_ft_pks_oct22_cseghw_3_t',\n",
              " 'https://www.imdb.com/showtimes/?ref_=nv_mv_sh',\n",
              " 'https://www.imdb.com/starmeterawards/?ref_=nv_ev_sma',\n",
              " 'https://www.imdb.com/sundance/?ref_=nv_ev_sun',\n",
              " 'https://www.imdb.com/toronto/?ref_=nv_ev_tor',\n",
              " 'https://www.imdb.com/trailers/?ref_=hm_hp_sm',\n",
              " 'https://www.imdb.com/trailers/?ref_=nv_mv_tr',\n",
              " 'https://www.imdb.com/video/vi1203356953/?listId=ls025720609&ref_=hm_edcio_og_bq_ba_5_i',\n",
              " 'https://www.imdb.com/video/vi1203356953/?listId=ls025720609&ref_=hm_edcio_og_bq_ba_5_t',\n",
              " 'https://www.imdb.com/video/vi1314636313/?listId=ls025720609&ref_=hm_edcio_og_ots_werewolfbynight_10_i',\n",
              " 'https://www.imdb.com/video/vi1314636313/?listId=ls025720609&ref_=hm_edcio_og_ots_werewolfbynight_10_t',\n",
              " 'https://www.imdb.com/video/vi1497874969/?listId=ls025720609&ref_=hm_edcio_og_nsp_ada_6_i',\n",
              " 'https://www.imdb.com/video/vi1497874969/?listId=ls025720609&ref_=hm_edcio_og_nsp_ada_6_t',\n",
              " 'https://www.imdb.com/video/vi2964440345/?listId=ls025720609&ref_=hm_edcio_og_bq_lyle_9_i',\n",
              " 'https://www.imdb.com/video/vi2964440345/?listId=ls025720609&ref_=hm_edcio_og_bq_lyle_9_t',\n",
              " 'https://www.imdb.com/video/vi331072793/?listId=ls025720609&ref_=hm_edcio_org_hweenends_ots_8_i',\n",
              " 'https://www.imdb.com/video/vi331072793/?listId=ls025720609&ref_=hm_edcio_org_hweenends_ots_8_t',\n",
              " 'https://www.imdb.com/video/vi3669607705/?listId=ls025720609&ref_=hm_edcio_org_aa_priah_2_i',\n",
              " 'https://www.imdb.com/video/vi3669607705/?listId=ls025720609&ref_=hm_edcio_org_aa_priah_2_t',\n",
              " 'https://www.imdb.com/video/vi3720004889/?listId=ls025720609&ref_=hm_edcio_og_ots_rosaline_4_i',\n",
              " 'https://www.imdb.com/video/vi3720004889/?listId=ls025720609&ref_=hm_edcio_og_ots_rosaline_4_t',\n",
              " 'https://www.imdb.com/video/vi3749757721/?listId=ls025720609&ref_=hm_edcio_og_rtcml_jlc_7_i',\n",
              " 'https://www.imdb.com/video/vi3749757721/?listId=ls025720609&ref_=hm_edcio_og_rtcml_jlc_7_t',\n",
              " 'https://www.imdb.com/video/vi3937649945/?listId=ls053181649&ref_=hm_edcft_org_5tw_oct17_4_i',\n",
              " 'https://www.imdb.com/video/vi3937649945/?listId=ls053181649&ref_=hm_edcft_org_5tw_oct17_4_t',\n",
              " 'https://www.imdb.com/video/vi434553369/?listId=ls025720609&ref_=hm_edcio_mobi_nsp_keke_3_i',\n",
              " 'https://www.imdb.com/video/vi434553369/?listId=ls025720609&ref_=hm_edcio_mobi_nsp_keke_3_t',\n",
              " 'https://www.imdb.com/video/vi843825689/?listId=ls025720609&ref_=hm_edcio_cseghhm_og_wtw_scaredyween_1_i',\n",
              " 'https://www.imdb.com/video/vi843825689/?listId=ls025720609&ref_=hm_edcio_cseghhm_og_wtw_scaredyween_1_t',\n",
              " 'https://www.imdb.com/what-to-watch/?ref_=nv_watch',\n",
              " 'https://www.imdb.com/what-to-watch/popular/?ref_=hm_watch_pop',\n",
              " 'https://www.imdb.com/what-to-watch/watch-guides/?ref_=hm_watch_wchgd',\n",
              " 'https://www.imdb.com/what-to-watch?ref_=hm_watch_btn',\n",
              " 'https://www.imdb.com/whats-on-tv/?ref_=nv_tv_ontv',\n",
              " 'https://www.imdb.comhttps://advertising.amazon.com/resources/ad-specs/imdb/',\n",
              " 'https://www.imdb.comhttps://contribute.imdb.com/czone?ref_=nv_cm_cz',\n",
              " 'https://www.imdb.comhttps://developer.imdb.com/',\n",
              " 'https://www.imdb.comhttps://facebook.com/imdb',\n",
              " 'https://www.imdb.comhttps://help.imdb.com/article/imdb/general-information/imdb-site-index/GNCX7BHNSPBTFALQ#so',\n",
              " 'https://www.imdb.comhttps://help.imdb.com/article/imdb/general-information/why-do-i-need-to-enable-my-cookies-on-imdb/GWE3JQ8VUQDCFW3Q?ref_=helpsrall#',\n",
              " 'https://www.imdb.comhttps://help.imdb.com/article/issues/G6TCMBKAAR5G95EN?ref_=loc_nav_sel_hlp',\n",
              " 'https://www.imdb.comhttps://help.imdb.com/imdb',\n",
              " 'https://www.imdb.comhttps://help.imdb.com/imdb?ref_=cons_nb_hlp',\n",
              " 'https://www.imdb.comhttps://instagram.com/imdb',\n",
              " 'https://www.imdb.comhttps://m.imdb.com/chart/starmeter/?ref_=nv_cel_brn',\n",
              " 'https://www.imdb.comhttps://m.imdb.com/feature/bestpicture/?ref_=nv_ch_osc',\n",
              " 'https://www.imdb.comhttps://pro.imdb.com/login/ap?u=/login/lwa&imdbPageAction=signUp&rf=cons_nb_hm&ref_=cons_nb_hm',\n",
              " 'https://www.imdb.comhttps://pro.imdb.com?ref_=cons_nb_hm&rf=cons_nb_hm',\n",
              " 'https://www.imdb.comhttps://pro.imdb.com?ref_=cons_tf_pro&rf=cons_tf_pro',\n",
              " 'https://www.imdb.comhttps://slyb.app.link/SKdyQ6A449',\n",
              " 'https://www.imdb.comhttps://twitter.com/imdb',\n",
              " 'https://www.imdb.comhttps://www.amazon.com/b/?&node=5160028011',\n",
              " 'https://www.imdb.comhttps://www.amazon.jobs/en/teams/imdb',\n",
              " 'https://www.imdb.comhttps://www.boxofficemojo.com',\n",
              " 'https://www.imdb.comhttps://www.imdb.com/calendar/?ref_=nv_mv_cal',\n",
              " 'https://www.imdb.comhttps://www.imdb.com/pressroom/?ref_=ft_pr',\n",
              " 'https://www.imdb.comhttps://www.imdb.com/search/',\n",
              " 'https://www.imdb.comhttps://www.imdb.com/search/name/?match_all=true&ref_=nv_cel_m',\n",
              " 'https://www.imdb.comhttps://www.imdb.com/search/title/?count=100&groups=oscar_best_picture_winners&sort=year%2Cdesc&ref_=nv_ch_osc',\n",
              " 'https://www.imdb.comhttps://www.tiktok.com/@imdb',\n",
              " 'https://www.imdb.comhttps://youtube.com/imdb/'}"
            ]
          },
          "metadata": {},
          "execution_count": 5
        }
      ]
    },
    {
      "cell_type": "code",
      "source": [],
      "metadata": {
        "id": "hIjn0kjdXPTk"
      },
      "execution_count": null,
      "outputs": []
    }
  ]
}